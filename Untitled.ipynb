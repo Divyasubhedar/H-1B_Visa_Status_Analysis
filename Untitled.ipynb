{
 "cells": [
  {
   "cell_type": "code",
   "execution_count": 1,
   "metadata": {},
   "outputs": [],
   "source": [
    "import pandas as pd "
   ]
  },
  {
   "cell_type": "code",
   "execution_count": 2,
   "metadata": {},
   "outputs": [],
   "source": [
    "import os"
   ]
  },
  {
   "cell_type": "code",
   "execution_count": 3,
   "metadata": {},
   "outputs": [
    {
     "name": "stdout",
     "output_type": "stream",
     "text": [
      "['3B5AD200', 'Ex_Files_Tableau_EssT_Upd (1).zip', 'H-1B_Disclosure_2017.xlsx', 'H-1B_Disclosure_2018.xlsx', 'H-1B_Disclosure_Data_FY17.xlsx', 'H-1B_Disclosure_Data_FY2018_EOY.xlsx', 'H-1B_FY17_Record_Layout.pdf', 'H-1B_FY18_Record_Layout.pdf']\n"
     ]
    }
   ],
   "source": [
    "print(os.listdir(\"D:\\Github Projects\\Tableau\")) #give the dir of file"
   ]
  },
  {
   "cell_type": "code",
   "execution_count": 5,
   "metadata": {},
   "outputs": [],
   "source": [
    "df2017 = pd.read_excel(r'D:\\Github Projects\\Tableau\\H-1B_Disclosure_2017.xlsx')#location of excel"
   ]
  },
  {
   "cell_type": "code",
   "execution_count": 6,
   "metadata": {},
   "outputs": [],
   "source": [
    "df2018 = pd.read_excel(r'D:\\Github Projects\\Tableau\\H-1B_Disclosure_2018.xlsx')#location of excel"
   ]
  },
  {
   "cell_type": "code",
   "execution_count": 7,
   "metadata": {},
   "outputs": [
    {
     "data": {
      "text/plain": [
       "Index(['CASE_NUMBER', 'CASE_STATUS', 'CASE_SUBMITTED', 'DECISION_DATE',\n",
       "       'VISA_CLASS', 'EMPLOYMENT_START_DATE', 'EMPLOYMENT_END_DATE',\n",
       "       'EMPLOYER_NAME', 'EMPLOYER_BUSINESS_DBA', 'EMPLOYER_ADDRESS',\n",
       "       'EMPLOYER_CITY', 'EMPLOYER_STATE', 'EMPLOYER_POSTAL_CODE',\n",
       "       'EMPLOYER_COUNTRY', 'EMPLOYER_PROVINCE', 'EMPLOYER_PHONE',\n",
       "       'EMPLOYER_PHONE_EXT', 'AGENT_REPRESENTING_EMPLOYER',\n",
       "       'AGENT_ATTORNEY_NAME', 'AGENT_ATTORNEY_CITY', 'AGENT_ATTORNEY_STATE',\n",
       "       'JOB_TITLE', 'SOC_CODE', 'SOC_NAME', 'NAICS_CODE', 'TOTAL_WORKERS',\n",
       "       'NEW_EMPLOYMENT', 'CONTINUED_EMPLOYMENT', 'CHANGE_PREVIOUS_EMPLOYMENT',\n",
       "       'NEW_CONCURRENT_EMPLOYMENT', 'CHANGE_EMPLOYER', 'AMENDED_PETITION',\n",
       "       'FULL_TIME_POSITION', 'PREVAILING_WAGE', 'PW_UNIT_OF_PAY',\n",
       "       'PW_WAGE_LEVEL', 'PW_SOURCE', 'PW_SOURCE_YEAR', 'PW_SOURCE_OTHER',\n",
       "       'WAGE_RATE_OF_PAY_FROM', 'WAGE_RATE_OF_PAY_TO', 'WAGE_UNIT_OF_PAY',\n",
       "       'H1B_DEPENDENT', 'WILLFUL_VIOLATOR', 'SUPPORT_H1B', 'LABOR_CON_AGREE',\n",
       "       'PUBLIC_DISCLOSURE_LOCATION', 'WORKSITE_CITY', 'WORKSITE_COUNTY',\n",
       "       'WORKSITE_STATE', 'WORKSITE_POSTAL_CODE', 'ORIGINAL_CERT_DATE'],\n",
       "      dtype='object')"
      ]
     },
     "execution_count": 7,
     "metadata": {},
     "output_type": "execute_result"
    }
   ],
   "source": [
    "df2017.columns #all clolumns from 2017 file"
   ]
  },
  {
   "cell_type": "code",
   "execution_count": 8,
   "metadata": {},
   "outputs": [
    {
     "data": {
      "text/plain": [
       "CERTIFIED              1552\n",
       "CERTIFIED-WITHDRAWN     388\n",
       "WITHDRAWN                36\n",
       "DENIED                   23\n",
       "Name: CASE_STATUS, dtype: int64"
      ]
     },
     "execution_count": 8,
     "metadata": {},
     "output_type": "execute_result"
    }
   ],
   "source": [
    "df2017.CASE_STATUS.value_counts() #Count of case status 2017 year"
   ]
  },
  {
   "cell_type": "code",
   "execution_count": 9,
   "metadata": {},
   "outputs": [
    {
     "data": {
      "text/plain": [
       "CERTIFIED              1512\n",
       "DENIED                  228\n",
       "CERTIFIED-WITHDRAWN     214\n",
       "WITHDRAWN                45\n",
       "Name: CASE_STATUS, dtype: int64"
      ]
     },
     "execution_count": 9,
     "metadata": {},
     "output_type": "execute_result"
    }
   ],
   "source": [
    "df2018.CASE_STATUS.value_counts() #Count of case status 2018 (As compare to 2017 deniel rate is decreased in 2018)"
   ]
  },
  {
   "cell_type": "code",
   "execution_count": 10,
   "metadata": {},
   "outputs": [],
   "source": [
    "use_cols= ['CASE_NUMBER', 'CASE_STATUS', 'CASE_SUBMITTED', 'DECISION_DATE',\n",
    "       'EMPLOYMENT_START_DATE', 'EMPLOYER_NAME',  'EMPLOYER_CITY', 'EMPLOYER_STATE',\n",
    "       'JOB_TITLE', 'SOC_CODE', 'SOC_NAME',  'PREVAILING_WAGE', 'PW_UNIT_OF_PAY',\n",
    "       'PW_WAGE_LEVEL', 'WAGE_RATE_OF_PAY_FROM', 'WAGE_RATE_OF_PAY_TO', 'WAGE_UNIT_OF_PAY',\n",
    "       'WORKSITE_CITY', 'WORKSITE_STATE']\n",
    "\n",
    "df2018_New = df2018[use_cols][(((((df2018.CASE_STATUS =='CERTIFIED') |(df2018.CASE_STATUS =='DENIED')) \n",
    "                             & (df2018.VISA_CLASS =='H-1B'))\n",
    "                            &(df2018.CHANGE_EMPLOYER !=0))\n",
    "                           &(df2018.EMPLOYER_COUNTRY =='UNITED STATES OF AMERICA'))\n",
    "                                &(df2018.FULL_TIME_POSITION =='Y')]\n",
    "df2017_New = df2017[use_cols][(((((df2017.CASE_STATUS =='CERTIFIED') |(df2017.CASE_STATUS =='DENIED')) \n",
    "                             & (df2017.VISA_CLASS =='H-1B'))\n",
    "                            &(df2017.CHANGE_EMPLOYER !=0))\n",
    "                           &(df2017.EMPLOYER_COUNTRY =='UNITED STATES OF AMERICA'))\n",
    "                                &(df2017.FULL_TIME_POSITION =='Y')]\n",
    "                              "
   ]
  },
  {
   "cell_type": "code",
   "execution_count": 11,
   "metadata": {},
   "outputs": [
    {
     "data": {
      "text/html": [
       "<div>\n",
       "<style scoped>\n",
       "    .dataframe tbody tr th:only-of-type {\n",
       "        vertical-align: middle;\n",
       "    }\n",
       "\n",
       "    .dataframe tbody tr th {\n",
       "        vertical-align: top;\n",
       "    }\n",
       "\n",
       "    .dataframe thead th {\n",
       "        text-align: right;\n",
       "    }\n",
       "</style>\n",
       "<table border=\"1\" class=\"dataframe\">\n",
       "  <thead>\n",
       "    <tr style=\"text-align: right;\">\n",
       "      <th></th>\n",
       "      <th>CASE_NUMBER</th>\n",
       "      <th>CASE_STATUS</th>\n",
       "      <th>CASE_SUBMITTED</th>\n",
       "      <th>DECISION_DATE</th>\n",
       "      <th>EMPLOYMENT_START_DATE</th>\n",
       "      <th>EMPLOYER_NAME</th>\n",
       "      <th>EMPLOYER_CITY</th>\n",
       "      <th>EMPLOYER_STATE</th>\n",
       "      <th>JOB_TITLE</th>\n",
       "      <th>SOC_CODE</th>\n",
       "      <th>SOC_NAME</th>\n",
       "      <th>PREVAILING_WAGE</th>\n",
       "      <th>PW_UNIT_OF_PAY</th>\n",
       "      <th>PW_WAGE_LEVEL</th>\n",
       "      <th>WAGE_RATE_OF_PAY_FROM</th>\n",
       "      <th>WAGE_RATE_OF_PAY_TO</th>\n",
       "      <th>WAGE_UNIT_OF_PAY</th>\n",
       "      <th>WORKSITE_CITY</th>\n",
       "      <th>WORKSITE_STATE</th>\n",
       "    </tr>\n",
       "  </thead>\n",
       "  <tbody>\n",
       "    <tr>\n",
       "      <td>194</td>\n",
       "      <td>I-200-09209-039181</td>\n",
       "      <td>CERTIFIED</td>\n",
       "      <td>2016-09-27</td>\n",
       "      <td>2016-10-03</td>\n",
       "      <td>2016-10-01</td>\n",
       "      <td>CLOUDWICK TECHNOLOGIES INC.</td>\n",
       "      <td>NEWARK</td>\n",
       "      <td>CA</td>\n",
       "      <td>HADOOP ADMINISTRATOR</td>\n",
       "      <td>15-1132</td>\n",
       "      <td>SOFTWARE DEVELOPERS, APPLICATIONS</td>\n",
       "      <td>102149.00</td>\n",
       "      <td>Year</td>\n",
       "      <td>Level I</td>\n",
       "      <td>102149.00</td>\n",
       "      <td>124675.0</td>\n",
       "      <td>Year</td>\n",
       "      <td>MOUNTAIN VIEW</td>\n",
       "      <td>CA</td>\n",
       "    </tr>\n",
       "    <tr>\n",
       "      <td>201</td>\n",
       "      <td>I-200-16271-793080</td>\n",
       "      <td>CERTIFIED</td>\n",
       "      <td>2016-09-27</td>\n",
       "      <td>2016-10-03</td>\n",
       "      <td>2016-10-04</td>\n",
       "      <td>FLEXERA GLOBAL, INC.</td>\n",
       "      <td>SUGAR LAND</td>\n",
       "      <td>TX</td>\n",
       "      <td>SOFTWARE ENGINEER</td>\n",
       "      <td>15-1132</td>\n",
       "      <td>SOFTWARE DEVELOPERS, APPLICATIONS</td>\n",
       "      <td>69472.00</td>\n",
       "      <td>Year</td>\n",
       "      <td>Level I</td>\n",
       "      <td>70000.00</td>\n",
       "      <td>0.0</td>\n",
       "      <td>Year</td>\n",
       "      <td>SUGAR LAND</td>\n",
       "      <td>TX</td>\n",
       "    </tr>\n",
       "    <tr>\n",
       "      <td>202</td>\n",
       "      <td>I-200-16155-597652</td>\n",
       "      <td>CERTIFIED</td>\n",
       "      <td>2016-09-27</td>\n",
       "      <td>2016-10-03</td>\n",
       "      <td>2016-09-30</td>\n",
       "      <td>GARDEN VIEW, INC.</td>\n",
       "      <td>MONROVIA</td>\n",
       "      <td>CA</td>\n",
       "      <td>LANDSCAPE DESIGNER, LANDSCAPE ARCHITECTURE</td>\n",
       "      <td>17-1012</td>\n",
       "      <td>LANDSCAPE ARCHITECTS</td>\n",
       "      <td>25.73</td>\n",
       "      <td>Hour</td>\n",
       "      <td>Level I</td>\n",
       "      <td>25.73</td>\n",
       "      <td>0.0</td>\n",
       "      <td>Hour</td>\n",
       "      <td>MONROVIA</td>\n",
       "      <td>CA</td>\n",
       "    </tr>\n",
       "    <tr>\n",
       "      <td>203</td>\n",
       "      <td>I-200-16189-475335</td>\n",
       "      <td>CERTIFIED</td>\n",
       "      <td>2016-09-27</td>\n",
       "      <td>2016-10-03</td>\n",
       "      <td>2016-09-27</td>\n",
       "      <td>AMFAL TECH LLC</td>\n",
       "      <td>WINTER  SPRINGS</td>\n",
       "      <td>FL</td>\n",
       "      <td>SOFTWARE DEVELOPER</td>\n",
       "      <td>15-1132</td>\n",
       "      <td>SOFTWARE DEVELOPERS, APPLICATIONS</td>\n",
       "      <td>47570.00</td>\n",
       "      <td>Year</td>\n",
       "      <td>Level I</td>\n",
       "      <td>47570.00</td>\n",
       "      <td>0.0</td>\n",
       "      <td>Year</td>\n",
       "      <td>LOUISVILLE</td>\n",
       "      <td>KY</td>\n",
       "    </tr>\n",
       "  </tbody>\n",
       "</table>\n",
       "</div>"
      ],
      "text/plain": [
       "            CASE_NUMBER CASE_STATUS CASE_SUBMITTED DECISION_DATE  \\\n",
       "194  I-200-09209-039181   CERTIFIED     2016-09-27    2016-10-03   \n",
       "201  I-200-16271-793080   CERTIFIED     2016-09-27    2016-10-03   \n",
       "202  I-200-16155-597652   CERTIFIED     2016-09-27    2016-10-03   \n",
       "203  I-200-16189-475335   CERTIFIED     2016-09-27    2016-10-03   \n",
       "\n",
       "    EMPLOYMENT_START_DATE                EMPLOYER_NAME    EMPLOYER_CITY  \\\n",
       "194            2016-10-01  CLOUDWICK TECHNOLOGIES INC.           NEWARK   \n",
       "201            2016-10-04         FLEXERA GLOBAL, INC.       SUGAR LAND   \n",
       "202            2016-09-30            GARDEN VIEW, INC.         MONROVIA   \n",
       "203            2016-09-27               AMFAL TECH LLC  WINTER  SPRINGS   \n",
       "\n",
       "    EMPLOYER_STATE                                   JOB_TITLE SOC_CODE  \\\n",
       "194             CA                        HADOOP ADMINISTRATOR  15-1132   \n",
       "201             TX                           SOFTWARE ENGINEER  15-1132   \n",
       "202             CA  LANDSCAPE DESIGNER, LANDSCAPE ARCHITECTURE  17-1012   \n",
       "203             FL                          SOFTWARE DEVELOPER  15-1132   \n",
       "\n",
       "                              SOC_NAME  PREVAILING_WAGE PW_UNIT_OF_PAY  \\\n",
       "194  SOFTWARE DEVELOPERS, APPLICATIONS        102149.00           Year   \n",
       "201  SOFTWARE DEVELOPERS, APPLICATIONS         69472.00           Year   \n",
       "202               LANDSCAPE ARCHITECTS            25.73           Hour   \n",
       "203  SOFTWARE DEVELOPERS, APPLICATIONS         47570.00           Year   \n",
       "\n",
       "    PW_WAGE_LEVEL  WAGE_RATE_OF_PAY_FROM  WAGE_RATE_OF_PAY_TO  \\\n",
       "194       Level I              102149.00             124675.0   \n",
       "201       Level I               70000.00                  0.0   \n",
       "202       Level I                  25.73                  0.0   \n",
       "203       Level I               47570.00                  0.0   \n",
       "\n",
       "    WAGE_UNIT_OF_PAY  WORKSITE_CITY WORKSITE_STATE  \n",
       "194             Year  MOUNTAIN VIEW             CA  \n",
       "201             Year     SUGAR LAND             TX  \n",
       "202             Hour       MONROVIA             CA  \n",
       "203             Year     LOUISVILLE             KY  "
      ]
     },
     "execution_count": 11,
     "metadata": {},
     "output_type": "execute_result"
    }
   ],
   "source": [
    "df2017_New.head(4)"
   ]
  },
  {
   "cell_type": "code",
   "execution_count": 15,
   "metadata": {},
   "outputs": [
    {
     "data": {
      "text/plain": [
       "BUSINESS DEVELOPMENT MANAGER, AWS SERVICE CATALOG    1\n",
       "SENIOR PRODUCT MANAGER - TECHNICAL                   1\n",
       "Name: JOB_TITLE, dtype: int64"
      ]
     },
     "execution_count": 15,
     "metadata": {},
     "output_type": "execute_result"
    }
   ],
   "source": [
    "# Here you can see the jobtitles which are certified from amazon\n",
    "df2018_New.JOB_TITLE[(df2018_New.EMPLOYER_NAME.str.contains(\"Amazon\",case=False)==True)&(df2018_New.CASE_STATUS =='CERTIFIED')].value_counts() "
   ]
  },
  {
   "cell_type": "code",
   "execution_count": 16,
   "metadata": {},
   "outputs": [
    {
     "data": {
      "text/plain": [
       "GOOGLE LLC     144\n",
       "GOOGLE INC.     12\n",
       "Name: EMPLOYER_NAME, dtype: int64"
      ]
     },
     "execution_count": 16,
     "metadata": {},
     "output_type": "execute_result"
    }
   ],
   "source": [
    "#Here you can see count of employers from google.\n",
    "df2018.EMPLOYER_NAME[df2018.EMPLOYER_NAME.str.contains('GOOGLE',case=False) == True].value_counts() "
   ]
  },
  {
   "cell_type": "code",
   "execution_count": 17,
   "metadata": {},
   "outputs": [
    {
     "data": {
      "text/plain": [
       "SOFTWARE ENGINEER                                 24\n",
       "RESEARCH SCIENTIST                                 5\n",
       "DATA ENGINEER                                      2\n",
       "HEAD OF ADVANCED RISK AND COMPLIANCE ANALYTICS     1\n",
       "PRODUCT DESIGNER                                   1\n",
       "MALWARE RESEARCHER                                 1\n",
       "RESEARCH SCIENTIST MANAGER                         1\n",
       "RESEARCH ENGINEER                                  1\n",
       "DATA SCIENTIST                                     1\n",
       "UX RESEARCHER                                      1\n",
       "SOLUTIONS ENGINEER                                 1\n",
       "SYSTEM TEST ARCHITECT                              1\n",
       "RESEARCH SCIENTIST (91.13381)                      1\n",
       "SOFTWARE ENGINEERING MANAGER                       1\n",
       "SOFTWARE ENGINEER MANAGER                          1\n",
       "MOBILE OPERATOR SUPPORT ENGINEER                   1\n",
       "DIRECTOR, NETWORK INVESTMENTS                      1\n",
       "CONTENT STRATEGIST                                 1\n",
       "PRODUCTION ENGINEER                                1\n",
       "ENGINEERING DIRECTOR                               1\n",
       "SOCIAL MARKETING MANAGER                           1\n",
       "RESEARCH SCIENTIST (91.133931)                     1\n",
       "PRODUCT DESIGNER (91.13185)                        1\n",
       "ENTERPRISE ENGINEER (91.133702)                    1\n",
       "Name: JOB_TITLE, dtype: int64"
      ]
     },
     "execution_count": 17,
     "metadata": {},
     "output_type": "execute_result"
    }
   ],
   "source": [
    "#Certifies job positions from Facebook.\n",
    "df2018.JOB_TITLE[(df2018.EMPLOYER_NAME.str.contains(\"FACEBOOK\",case=False)==True)&(df2018.CASE_STATUS =='CERTIFIED')].value_counts()"
   ]
  }
 ],
 "metadata": {
  "kernelspec": {
   "display_name": "Python 3",
   "language": "python",
   "name": "python3"
  },
  "language_info": {
   "codemirror_mode": {
    "name": "ipython",
    "version": 3
   },
   "file_extension": ".py",
   "mimetype": "text/x-python",
   "name": "python",
   "nbconvert_exporter": "python",
   "pygments_lexer": "ipython3",
   "version": "3.7.4"
  }
 },
 "nbformat": 4,
 "nbformat_minor": 2
}
